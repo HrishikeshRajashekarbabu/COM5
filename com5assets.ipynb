{
 "cells": [
  {
   "cell_type": "markdown",
   "metadata": {},
   "source": [
    "Obtain session information to establish link to client"
   ]
  },
  {
   "cell_type": "code",
   "execution_count": 8,
   "metadata": {},
   "outputs": [],
   "source": [
    "import requests\n",
    "API_KEY = {'X-API-Key': 'HDHLS96D'}\n",
    "s = requests.Session()\n",
    "s.headers.update(API_KEY)"
   ]
  },
  {
   "cell_type": "markdown",
   "metadata": {},
   "source": [
    "Lease 3 storage tanks"
   ]
  },
  {
   "cell_type": "code",
   "execution_count": 37,
   "metadata": {},
   "outputs": [
    {
     "data": {
      "text/plain": [
       "<Response [200]>"
      ]
     },
     "execution_count": 37,
     "metadata": {},
     "output_type": "execute_result"
    }
   ],
   "source": [
    "s.post('http://localhost:9999/v1/leases', params={'ticker': 'CL-STORAGE'})\n",
    "s.post('http://localhost:9999/v1/leases', params={'ticker': 'CL-STORAGE'})\n",
    "s.post('http://localhost:9999/v1/leases', params={'ticker': 'CL-STORAGE'})"
   ]
  },
  {
   "cell_type": "markdown",
   "metadata": {},
   "source": [
    "Submit 3 market buy orders for 10 CL contracts"
   ]
  },
  {
   "cell_type": "code",
   "execution_count": 38,
   "metadata": {},
   "outputs": [
    {
     "data": {
      "text/plain": [
       "<Response [200]>"
      ]
     },
     "execution_count": 38,
     "metadata": {},
     "output_type": "execute_result"
    }
   ],
   "source": [
    "ordersize = 10\n",
    "s.post('http://localhost:9999/v1/orders', params={'ticker': 'CL', 'type': 'MARKET', 'quantity': ordersize, 'action': 'BUY'})\n",
    "s.post('http://localhost:9999/v1/orders', params={'ticker': 'CL', 'type': 'MARKET', 'quantity': ordersize, 'action': 'BUY'})\n",
    "s.post('http://localhost:9999/v1/orders', params={'ticker': 'CL', 'type': 'MARKET', 'quantity': ordersize, 'action': 'BUY'})"
   ]
  },
  {
   "cell_type": "markdown",
   "metadata": {},
   "source": [
    "Refinery needs to be leased and then used. "
   ]
  },
  {
   "cell_type": "code",
   "execution_count": 39,
   "metadata": {},
   "outputs": [
    {
     "name": "stdout",
     "output_type": "stream",
     "text": [
      "[{'id': 1, 'ticker': 'CL-STORAGE', 'type': 'CONTAINER', 'start_lease_period': 1, 'start_lease_tick': 9, 'next_lease_period': 1, 'next_lease_tick': 489, 'convert_from': [], 'convert_to': [], 'convert_finish_period': None, 'convert_finish_tick': None, 'containment_usage': 10}, {'id': 2, 'ticker': 'CL-STORAGE', 'type': 'CONTAINER', 'start_lease_period': 1, 'start_lease_tick': 9, 'next_lease_period': 1, 'next_lease_tick': 489, 'convert_from': [], 'convert_to': [], 'convert_finish_period': None, 'convert_finish_tick': None, 'containment_usage': 10}, {'id': 3, 'ticker': 'CL-STORAGE', 'type': 'CONTAINER', 'start_lease_period': 1, 'start_lease_tick': 9, 'next_lease_period': 1, 'next_lease_tick': 489, 'convert_from': [], 'convert_to': [], 'convert_finish_period': None, 'convert_finish_tick': None, 'containment_usage': 10}, {'id': 4, 'ticker': 'CL-REFINERY', 'type': 'REFINERY', 'start_lease_period': 1, 'start_lease_tick': 15, 'next_lease_period': 1, 'next_lease_tick': 495, 'convert_from': [], 'convert_to': [], 'convert_finish_period': None, 'convert_finish_tick': None, 'containment_usage': None}, {'id': 5, 'ticker': 'CL-STORAGE', 'type': 'CONTAINER', 'start_lease_period': 1, 'start_lease_tick': 454, 'next_lease_period': 1, 'next_lease_tick': 484, 'convert_from': [], 'convert_to': [], 'convert_finish_period': None, 'convert_finish_tick': None, 'containment_usage': 0}, {'id': 6, 'ticker': 'CL-STORAGE', 'type': 'CONTAINER', 'start_lease_period': 1, 'start_lease_tick': 454, 'next_lease_period': 1, 'next_lease_tick': 484, 'convert_from': [], 'convert_to': [], 'convert_finish_period': None, 'convert_finish_tick': None, 'containment_usage': 0}, {'id': 7, 'ticker': 'CL-STORAGE', 'type': 'CONTAINER', 'start_lease_period': 1, 'start_lease_tick': 454, 'next_lease_period': 1, 'next_lease_tick': 484, 'convert_from': [], 'convert_to': [], 'convert_finish_period': None, 'convert_finish_tick': None, 'containment_usage': 0}]\n",
      "{'id': 1, 'ticker': 'CL-STORAGE', 'type': 'CONTAINER', 'start_lease_period': 1, 'start_lease_tick': 9, 'next_lease_period': 1, 'next_lease_tick': 489, 'convert_from': [], 'convert_to': [], 'convert_finish_period': None, 'convert_finish_tick': None, 'containment_usage': 10}\n",
      "{'id': 2, 'ticker': 'CL-STORAGE', 'type': 'CONTAINER', 'start_lease_period': 1, 'start_lease_tick': 9, 'next_lease_period': 1, 'next_lease_tick': 489, 'convert_from': [], 'convert_to': [], 'convert_finish_period': None, 'convert_finish_tick': None, 'containment_usage': 10}\n",
      "{'id': 3, 'ticker': 'CL-STORAGE', 'type': 'CONTAINER', 'start_lease_period': 1, 'start_lease_tick': 9, 'next_lease_period': 1, 'next_lease_tick': 489, 'convert_from': [], 'convert_to': [], 'convert_finish_period': None, 'convert_finish_tick': None, 'containment_usage': 10}\n",
      "{'id': 4, 'ticker': 'CL-REFINERY', 'type': 'REFINERY', 'start_lease_period': 1, 'start_lease_tick': 15, 'next_lease_period': 1, 'next_lease_tick': 495, 'convert_from': [], 'convert_to': [], 'convert_finish_period': None, 'convert_finish_tick': None, 'containment_usage': None}\n",
      "4\n",
      "{'id': 5, 'ticker': 'CL-STORAGE', 'type': 'CONTAINER', 'start_lease_period': 1, 'start_lease_tick': 454, 'next_lease_period': 1, 'next_lease_tick': 484, 'convert_from': [], 'convert_to': [], 'convert_finish_period': None, 'convert_finish_tick': None, 'containment_usage': 0}\n",
      "{'id': 6, 'ticker': 'CL-STORAGE', 'type': 'CONTAINER', 'start_lease_period': 1, 'start_lease_tick': 454, 'next_lease_period': 1, 'next_lease_tick': 484, 'convert_from': [], 'convert_to': [], 'convert_finish_period': None, 'convert_finish_tick': None, 'containment_usage': 0}\n",
      "{'id': 7, 'ticker': 'CL-STORAGE', 'type': 'CONTAINER', 'start_lease_period': 1, 'start_lease_tick': 454, 'next_lease_period': 1, 'next_lease_tick': 484, 'convert_from': [], 'convert_to': [], 'convert_finish_period': None, 'convert_finish_tick': None, 'containment_usage': 0}\n"
     ]
    }
   ],
   "source": [
    "s.post('http://localhost:9999/v1/leases', params={'ticker': 'CL-REFINERY'})\n",
    "resp = s.get('http://localhost:9999/v1/leases', params={'ticker': 'CL-REFINERY'})\n",
    "leaseinfo = resp.json()\n",
    "print(leaseinfo)\n",
    "# Find id of CL-REFINERY in list of leases\n",
    "for x in leaseinfo:\n",
    "    print(x)\n",
    "    if \"CL-REFINERY\" in x['ticker']:\n",
    "        leaseid = x['id']\n",
    "        print(leaseid)\n",
    "        s.post('http://localhost:9999/v1/leases/{}'.format(leaseid), params={'from1': 'CL', 'quantity1': 30})\n"
   ]
  },
  {
   "cell_type": "markdown",
   "metadata": {},
   "source": [
    "End lease of unused storage tanks"
   ]
  },
  {
   "cell_type": "code",
   "execution_count": 44,
   "metadata": {},
   "outputs": [
    {
     "name": "stdout",
     "output_type": "stream",
     "text": [
      "[{'id': 4, 'ticker': 'CL-REFINERY', 'type': 'REFINERY', 'start_lease_period': 1, 'start_lease_tick': 15, 'next_lease_period': 2, 'next_lease_tick': 75, 'convert_from': [], 'convert_to': [], 'convert_finish_period': None, 'convert_finish_tick': None, 'containment_usage': None}]\n"
     ]
    }
   ],
   "source": [
    "resp = s.get('http://localhost:9999/v1/leases')\n",
    "leaseinfo = resp.json()\n",
    "print(leaseinfo)\n",
    "for x in leaseinfo:\n",
    "    if x['containment_usage'] == 0:\n",
    "        leaseid = x['id']\n",
    "        print(leaseid)\n",
    "        s.delete('http://localhost:9999/v1/leases/{}'.format(leaseid))"
   ]
  },
  {
   "cell_type": "markdown",
   "metadata": {},
   "source": [
    "Send 10 units of CL-AK from Alaska to Cushing using pipeline"
   ]
  },
  {
   "cell_type": "code",
   "execution_count": null,
   "metadata": {},
   "outputs": [],
   "source": [
    "ordersize = 10\n",
    "s.post('http://localhost:9999/v1/leases', params={'ticker': 'AK-STORAGE'})\n",
    "s.post('http://localhost:9999/v1/leases', params={'ticker': 'CL-STORAGE'})\n",
    "s.post('http://localhost:9999/v1/orders', params={'ticker': 'CL-AK', 'type': 'MARKET', 'quantity': ordersize, 'action': 'BUY'})\n",
    "s.post('http://localhost:9999/v1/leases', params={'ticker': 'AK-CS-PIPE', 'from1': 'CL-AK', 'quantity1': 10})\n"
   ]
  }
 ],
 "metadata": {
  "kernelspec": {
   "display_name": "Python 3.9.12 ('base')",
   "language": "python",
   "name": "python3"
  },
  "language_info": {
   "codemirror_mode": {
    "name": "ipython",
    "version": 3
   },
   "file_extension": ".py",
   "mimetype": "text/x-python",
   "name": "python",
   "nbconvert_exporter": "python",
   "pygments_lexer": "ipython3",
   "version": "3.9.12"
  },
  "orig_nbformat": 4,
  "vscode": {
   "interpreter": {
    "hash": "4a64ab59df104158e2145ed15d7215c17e2dec101b8e81b3e9d27c675199d4a3"
   }
  }
 },
 "nbformat": 4,
 "nbformat_minor": 2
}
